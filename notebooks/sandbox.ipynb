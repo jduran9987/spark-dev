{
 "cells": [
  {
   "cell_type": "code",
   "execution_count": 1,
   "id": "23ffaed8-e789-43cb-bd37-921408700c35",
   "metadata": {},
   "outputs": [],
   "source": [
    "from pyspark.sql import SparkSession\n"
   ]
  },
  {
   "cell_type": "code",
   "execution_count": 2,
   "id": "514c92a6-ef00-433a-958a-5603f5a18a4d",
   "metadata": {},
   "outputs": [],
   "source": [
    "spark = SparkSession \\\n",
    "    .builder \\\n",
    "    .appName(\"icebergTest\") \\\n",
    "    .getOrCreate()\n"
   ]
  },
  {
   "cell_type": "code",
   "execution_count": 3,
   "id": "0cdecb7c-4173-48bd-8170-6b1158adc87e",
   "metadata": {},
   "outputs": [],
   "source": [
    "users_df = spark \\\n",
    "    .read \\\n",
    "    .parquet(\"s3a://dlh-raw-747289661046/users/unbalanced/\")\n"
   ]
  },
  {
   "cell_type": "code",
   "execution_count": 7,
   "id": "a203a604-aefa-4d4a-9dc1-2d49132c0f47",
   "metadata": {},
   "outputs": [],
   "source": [
    "spark.stop()"
   ]
  },
  {
   "cell_type": "code",
   "execution_count": null,
   "id": "80ace125-80d6-4ff7-8522-3e48fed9e797",
   "metadata": {},
   "outputs": [],
   "source": []
  }
 ],
 "metadata": {
  "kernelspec": {
   "display_name": "Python 3 (ipykernel)",
   "language": "python",
   "name": "python3"
  },
  "language_info": {
   "codemirror_mode": {
    "name": "ipython",
    "version": 3
   },
   "file_extension": ".py",
   "mimetype": "text/x-python",
   "name": "python",
   "nbconvert_exporter": "python",
   "pygments_lexer": "ipython3",
   "version": "3.11.6"
  }
 },
 "nbformat": 4,
 "nbformat_minor": 5
}
